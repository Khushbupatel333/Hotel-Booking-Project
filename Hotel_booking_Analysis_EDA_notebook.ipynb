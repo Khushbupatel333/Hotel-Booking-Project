{
  "nbformat": 4,
  "nbformat_minor": 0,
  "metadata": {
    "colab": {
      "provenance": [],
      "collapsed_sections": [
        "vncDsAP0Gaoa",
        "w6K7xa23Elo4",
        "yQaldy8SH6Dl",
        "PH-0ReGfmX4f",
        "mDgbUHAGgjLW",
        "O_i_v8NEhb9l",
        "HhfV-JJviCcP",
        "Y3lxredqlCYt",
        "x71ZqKXriCWQ",
        "7hBIi_osiCS2",
        "JlHwYmJAmNHm",
        "35m5QtbWiB9F",
        "PoPl-ycgm1ru",
        "H0kj-8xxnORC",
        "nA9Y7ga8ng1Z",
        "PBTbrJXOngz2",
        "u3PMJOP6ngxN",
        "bKJF3rekwFvQ",
        "JcMwzZxoAimU",
        "gCX9965dhzqZ",
        "gIfDvo9L0UH2"
      ],
      "include_colab_link": true
    },
    "kernelspec": {
      "name": "python3",
      "display_name": "Python 3"
    },
    "language_info": {
      "name": "python"
    }
  },
  "cells": [
    {
      "cell_type": "markdown",
      "metadata": {
        "id": "view-in-github",
        "colab_type": "text"
      },
      "source": [
        "<a href=\"https://colab.research.google.com/github/Khushbupatel333/Hotel-Booking-Project/blob/main/Hotel_booking_Analysis_EDA_notebook.ipynb\" target=\"_parent\"><img src=\"https://colab.research.google.com/assets/colab-badge.svg\" alt=\"Open In Colab\"/></a>"
      ]
    },
    {
      "cell_type": "markdown",
      "source": [
        "# **Project Name**    -\n",
        "\n",
        "Hotel Booking Analysis"
      ],
      "metadata": {
        "id": "vncDsAP0Gaoa"
      }
    },
    {
      "cell_type": "markdown",
      "source": [
        "##### **Project Type**    - EDA\n",
        "##### **Contribution**    - Individual"
      ],
      "metadata": {
        "id": "beRrZCGUAJYm"
      }
    },
    {
      "cell_type": "markdown",
      "source": [
        "# **GitHub Link :-**"
      ],
      "metadata": {
        "id": "w6K7xa23Elo4"
      }
    },
    {
      "cell_type": "markdown",
      "source": [
        "https://github.com/Khushbupatel333/Hotel-Booking-Project/blob/main/README.md"
      ],
      "metadata": {
        "id": "h1o69JH3Eqqn"
      }
    },
    {
      "cell_type": "markdown",
      "source": [
        "# **Problem Statement**\n"
      ],
      "metadata": {
        "id": "yQaldy8SH6Dl"
      }
    },
    {
      "cell_type": "markdown",
      "source": [
        " A hotel system is all about rooms, reservation and cancelletion.A Customer make reservations,change the booking.\n",
        "   \n",
        "    \n",
        "A desk clerk in a hotel at the time of checked out change the checkout date andbcheck out the customer.A room assign to customer at check time and customer bill records are updated.\n",
        "\n",
        "  A customer can be pay by cash or credit when check out. This all things are part of hotel booking services.The Hotel Booking Dataset can help you to explore and clear all doubts and questions related to hotel booking system."
      ],
      "metadata": {
        "id": "DpeJGUA3kjGy"
      }
    },
    {
      "cell_type": "markdown",
      "source": [
        "#### **Define Your Business Objective?**"
      ],
      "metadata": {
        "id": "PH-0ReGfmX4f"
      }
    },
    {
      "cell_type": "markdown",
      "source": [
        "To analysing data To solve Booking related issues."
      ],
      "metadata": {
        "id": "PhDvGCAqmjP1"
      }
    },
    {
      "cell_type": "markdown",
      "source": [
        "# **General Guidelines** : -  "
      ],
      "metadata": {
        "id": "mDgbUHAGgjLW"
      }
    },
    {
      "cell_type": "markdown",
      "source": [
        "1.   Well-structured, formatted, and commented code is required.\n",
        "2.   Exception Handling, Production Grade Code & Deployment Ready Code will be a plus. Those students will be awarded some additional credits.\n",
        "     \n",
        "     The additional credits will have advantages over other students during Star Student selection.\n",
        "       \n",
        "             [ Note: - Deployment Ready Code is defined as, the whole .ipynb notebook should be executable in one go\n",
        "                       without a single error logged. ]\n",
        "\n",
        "3.   Each and every logic should have proper comments.\n",
        "4. You may add as many number of charts you want. Make Sure for each and every chart the following format should be answered.\n",
        "        \n",
        "\n",
        "```\n",
        "# Chart visualization code\n",
        "```\n",
        "            \n",
        "\n",
        "*   Why did you pick the specific chart?\n",
        "*   What is/are the insight(s) found from the chart?\n",
        "* Will the gained insights help creating a positive business impact?\n",
        "Are there any insights that lead to negative growth? Justify with specific reason.\n",
        "\n",
        "5. You have to create at least 20 logical & meaningful charts having important insights.\n",
        "\n",
        "\n",
        "[ Hints : - Do the Vizualization in  a structured way while following \"UBM\" Rule.\n",
        "\n",
        "U - Univariate Analysis,\n",
        "\n",
        "B - Bivariate Analysis (Numerical - Categorical, Numerical - Numerical, Categorical - Categorical)\n",
        "\n",
        "M - Multivariate Analysis\n",
        " ]\n",
        "\n",
        "\n",
        "\n"
      ],
      "metadata": {
        "id": "ZrxVaUj-hHfC"
      }
    },
    {
      "cell_type": "code",
      "source": [],
      "metadata": {
        "id": "LKp2qfb2fnt7"
      },
      "execution_count": null,
      "outputs": []
    },
    {
      "cell_type": "markdown",
      "source": [
        "# ***Let's Begin !***"
      ],
      "metadata": {
        "id": "O_i_v8NEhb9l"
      }
    },
    {
      "cell_type": "markdown",
      "source": [
        "## ***1. Know Your Data***"
      ],
      "metadata": {
        "id": "HhfV-JJviCcP"
      }
    },
    {
      "cell_type": "markdown",
      "source": [
        "### Import Libraries"
      ],
      "metadata": {
        "id": "Y3lxredqlCYt"
      }
    },
    {
      "cell_type": "code",
      "source": [
        "# Import Libraries\n",
        "import numpy as np\n",
        "import pandas as pd\n",
        "from numpy import math\n",
        "from numpy import loadtxt\n",
        "import seaborn as sns\n",
        "import matplotlib\n",
        "import matplotlib.pyplot as plt\n",
        "import folium"
      ],
      "metadata": {
        "id": "M8Vqi-pPk-HR"
      },
      "execution_count": null,
      "outputs": []
    },
    {
      "cell_type": "markdown",
      "source": [
        "####Loading Dataset"
      ],
      "metadata": {
        "id": "0xJr-V8SRs53"
      }
    },
    {
      "cell_type": "code",
      "source": [
        "from google.colab import drive\n",
        "drive.mount('/content/drive')"
      ],
      "metadata": {
        "id": "QtQX94KUyT9X"
      },
      "execution_count": null,
      "outputs": []
    },
    {
      "cell_type": "code",
      "source": [
        "df=pd.read_csv('/content/drive/My Drive/Colab Notebooks/HotelBooking.csv')"
      ],
      "metadata": {
        "id": "RIhKeCdmzB8n"
      },
      "execution_count": null,
      "outputs": []
    },
    {
      "cell_type": "markdown",
      "source": [
        "### Dataset First View"
      ],
      "metadata": {
        "id": "x71ZqKXriCWQ"
      }
    },
    {
      "cell_type": "code",
      "source": [
        "# Dataset First Look\n",
        "df.head()"
      ],
      "metadata": {
        "id": "LWNFOSvLl09H"
      },
      "execution_count": null,
      "outputs": []
    },
    {
      "cell_type": "markdown",
      "source": [
        "### Dataset Rows & Columns count"
      ],
      "metadata": {
        "id": "7hBIi_osiCS2"
      }
    },
    {
      "cell_type": "code",
      "source": [
        "# Dataset Rows & Columns count\n",
        "df.shape"
      ],
      "metadata": {
        "id": "Kllu7SJgmLij"
      },
      "execution_count": null,
      "outputs": []
    },
    {
      "cell_type": "markdown",
      "source": [
        "### Dataset Information"
      ],
      "metadata": {
        "id": "JlHwYmJAmNHm"
      }
    },
    {
      "cell_type": "code",
      "source": [
        "# Dataset Info\n",
        "df.info()"
      ],
      "metadata": {
        "id": "e9hRXRi6meOf"
      },
      "execution_count": null,
      "outputs": []
    },
    {
      "cell_type": "markdown",
      "source": [
        "#### Duplicate Values"
      ],
      "metadata": {
        "id": "35m5QtbWiB9F"
      }
    },
    {
      "cell_type": "code",
      "source": [
        "# Dataset Duplicate Value Count\n",
        "len(df[df.duplicated()])"
      ],
      "metadata": {
        "id": "1sLdpKYkmox0"
      },
      "execution_count": null,
      "outputs": []
    },
    {
      "cell_type": "markdown",
      "source": [
        "#### Missing Values/Null Values"
      ],
      "metadata": {
        "id": "PoPl-ycgm1ru"
      }
    },
    {
      "cell_type": "code",
      "source": [
        "# Missing Values/Null Values Count\n",
        "print(df.isnull().sum())"
      ],
      "metadata": {
        "id": "GgHWkxvamxVg"
      },
      "execution_count": null,
      "outputs": []
    },
    {
      "cell_type": "code",
      "source": [
        "# Visualizing the missing values\n",
        "sns.heatmap(df.isnull(),cbar=False)"
      ],
      "metadata": {
        "id": "3q5wnI3om9sJ"
      },
      "execution_count": null,
      "outputs": []
    },
    {
      "cell_type": "markdown",
      "source": [
        "### What did you know about your dataset?"
      ],
      "metadata": {
        "id": "H0kj-8xxnORC"
      }
    },
    {
      "cell_type": "markdown",
      "source": [
        "The given dataset is a dataset of Hotel booking and we have to analysis the data and the insights behind it.\n",
        "\n",
        "The goal is to understand the issues and problems from customer side and also from perticular hotel or organisation and take step to change it.\n",
        "\n",
        "The above dataset has 119390 rows and 32 columns.There and no missing values and duplicate values in the dataset"
      ],
      "metadata": {
        "id": "gfoNAAC-nUe_"
      }
    },
    {
      "cell_type": "markdown",
      "source": [
        "## ***2. Understanding Your Variables***"
      ],
      "metadata": {
        "id": "nA9Y7ga8ng1Z"
      }
    },
    {
      "cell_type": "code",
      "source": [
        "# Dataset Columns\n",
        "df.columns"
      ],
      "metadata": {
        "id": "j7xfkqrt5Ag5"
      },
      "execution_count": null,
      "outputs": []
    },
    {
      "cell_type": "code",
      "source": [
        "# Dataset Describe\n",
        "df.describe(include='all')"
      ],
      "metadata": {
        "id": "DnOaZdaE5Q5t"
      },
      "execution_count": null,
      "outputs": []
    },
    {
      "cell_type": "markdown",
      "source": [
        "### Variables Description"
      ],
      "metadata": {
        "id": "PBTbrJXOngz2"
      }
    },
    {
      "cell_type": "markdown",
      "source": [
        "Hotel: Name of the hotel(City or Resort)\n",
        "\n",
        "\n",
        "is_cancelled :Number of cancelled Booking\n",
        "\n",
        "\n",
        "arrive_year : Year of Customer arrival\n",
        "\n",
        "\n",
        "arrive _ month:Month of Customer arrival\n",
        "\n",
        "Adult : Number of Adult\n",
        "\n",
        "\n",
        "Children :Number of Children\n",
        "\n",
        "\n",
        "Babies: Number of Babies\n",
        "\n",
        "\n",
        "meal: Type of meal(HB,FB,BB)\n",
        "\n",
        "\n",
        "Country: Name of country\n",
        "\n",
        "is_ repeated_guest: Number of repeated guest\n",
        "\n",
        "\n",
        "previous_cancellation:Number of Previous cancelled booking\n",
        "\n",
        "\n",
        "reserved_room_type: Type of room(Ac or normal)\n",
        "\n",
        "booking_changes: Number of booking chages\n",
        "\n",
        "deposit_type:Type of deposit(No deposit or refund)\n",
        "\n",
        "customer_type: Type of customer (Group or transient)\n",
        "\n",
        "reservation_status:Reservation condition (checked out or cancelled)\n",
        "\n",
        "Number_of_ booking:Number of booking"
      ],
      "metadata": {
        "id": "aJV4KIxSnxay"
      }
    },
    {
      "cell_type": "markdown",
      "source": [
        "### Check Unique Values for each variable."
      ],
      "metadata": {
        "id": "u3PMJOP6ngxN"
      }
    },
    {
      "cell_type": "code",
      "source": [
        "# Check Unique Values for each variable.\n",
        "for i in df.columns.tolist():\n",
        " print(' Unique values are:',i,'is',df[i].unique())"
      ],
      "metadata": {
        "id": "zms12Yq5n-jE"
      },
      "execution_count": null,
      "outputs": []
    },
    {
      "cell_type": "markdown",
      "source": [
        "### Null Values Handling"
      ],
      "metadata": {
        "id": "bKJF3rekwFvQ"
      }
    },
    {
      "cell_type": "code",
      "source": [
        "# Write your code to make your dataset analysis ready.\n",
        "#Removing duplicate values\n",
        "\n",
        "df.drop_duplicates(inplace=True)\n",
        "df.duplicated().sum()\n",
        "\n",
        "#Chekcing null values with percentage\n",
        "round(df.isna().sum()/len(df)*100,2)"
      ],
      "metadata": {
        "id": "wk-9a2fpoLcV"
      },
      "execution_count": null,
      "outputs": []
    },
    {
      "cell_type": "markdown",
      "source": [
        "**Children,country,agent variable have null values less than 50% but compony variable have null values more than 50%.**"
      ],
      "metadata": {
        "id": "wW0txhReKdBp"
      }
    },
    {
      "cell_type": "code",
      "source": [
        "#Chekcing categories of null values\n",
        "df.country.value_counts()\n",
        "\n",
        "df.agent.value_counts()"
      ],
      "metadata": {
        "id": "MSM8fTwHK1F-"
      },
      "execution_count": null,
      "outputs": []
    },
    {
      "cell_type": "code",
      "source": [
        "df.children.value_counts()\n",
        "\n",
        "df.company.value_counts()\n",
        "\n",
        "#Dropping variable with more than 50% null values\n",
        "df.drop(columns='company',inplace=True)"
      ],
      "metadata": {
        "id": "-D7fghcnLJv7"
      },
      "execution_count": null,
      "outputs": []
    },
    {
      "cell_type": "code",
      "source": [
        "#Replacing null values with most frequent value\n",
        "df['children']=df['children'].fillna(df['children'].mode()[0])\n",
        "df['country']=df['country'].fillna(df['country'].mode()[0])\n",
        "df['agent']=df['agent'].fillna(df['agent'].mode()[0])\n",
        "\n",
        "df.isna().sum()"
      ],
      "metadata": {
        "id": "km8rHL8vLxx8"
      },
      "execution_count": null,
      "outputs": []
    },
    {
      "cell_type": "markdown",
      "source": [
        "**From above children,agent and compony are numerical variable so replace null values with modes.**"
      ],
      "metadata": {
        "id": "SY7o2glJMZqh"
      }
    },
    {
      "cell_type": "markdown",
      "source": [
        "###Handling outliers"
      ],
      "metadata": {
        "id": "SGMzW4MdWGdA"
      }
    },
    {
      "cell_type": "code",
      "source": [
        "#Obtaining Categorical features\n",
        "\n",
        "cat_var=[i for i in df.columns if df[i].dtypes=='O']\n",
        "print(f'Dataset{len(cat_var)} categorical variables')\n",
        "print('--'*39)\n",
        "print(cat_var)"
      ],
      "metadata": {
        "id": "lEJTyAcwWUEB"
      },
      "execution_count": null,
      "outputs": []
    },
    {
      "cell_type": "code",
      "source": [
        "#Obtaining numerical variable\n",
        "\n",
        "\n",
        "num_var=[i for i in df.columns if df[i].dtypes!='O']\n",
        "print(f'Dataset{len(num_var)} Numericalvariables')\n",
        "print('--'*39)\n",
        "print(num_var)"
      ],
      "metadata": {
        "id": "Z7rPFpZlW5DA"
      },
      "execution_count": null,
      "outputs": []
    },
    {
      "cell_type": "code",
      "source": [
        "#Obtaining descrete variables\n",
        "descrete=[]\n",
        "for i in num_var:\n",
        " if len(df[i].value_counts())<=150:\n",
        "  descrete.append(i)\n",
        "  print(i,':',df[i].unique())\n",
        "  print('__'*39)\n",
        " else:\n",
        "  pass\n",
        " print (f'Dataset {len(descrete)} descrete variables')"
      ],
      "metadata": {
        "id": "k1NoThaNXKIy"
      },
      "execution_count": null,
      "outputs": []
    },
    {
      "cell_type": "code",
      "source": [
        "#Obtaining continuous Variable\n",
        "continuous=[i for i in num_var if i not in descrete]\n",
        "print(f'Dataset{len(continuous)} continuous Variable')\n",
        "print('--'*39)\n",
        "print(continuous)"
      ],
      "metadata": {
        "id": "bH7ZlotGX8Jc"
      },
      "execution_count": null,
      "outputs": []
    },
    {
      "cell_type": "code",
      "source": [
        "#Checking Outliers for continuous Variable\n",
        "\n",
        "from scipy.stats import norm\n",
        "for i in continuous:\n",
        " plt.figure(figsize=(15,6))\n",
        " plt.subplot(1,2,1)\n",
        " ax=sns.boxplot(data=df[i])\n",
        " ax.set_title(f'{i}')\n",
        " ax.set_ylabel(i)\n",
        "\n",
        " plt.subplot(1,2,2)\n",
        " ax=sns.distplot(df[i],fit=norm)\n",
        " ax.set_title(f'Skewness of{i}:{df[i].skew()}')\n",
        " ax.set_xlabel(i)\n",
        " print('__'*39)\n",
        " plt.show()"
      ],
      "metadata": {
        "id": "niTSccwoYhXt"
      },
      "execution_count": null,
      "outputs": []
    },
    {
      "cell_type": "markdown",
      "source": [
        "**Outliers found in adr and lead_time variables**"
      ],
      "metadata": {
        "id": "YhpN4mWiZbE-"
      }
    },
    {
      "cell_type": "code",
      "source": [
        "#Handling outliers\n",
        "outliers=['lead_time','adr']\n",
        "\n",
        "#For loop\n",
        "for i in outliers:\n",
        " Q1=df[i].quantile(0.25)\n",
        " Q3=df[i].quantile(0.75)\n",
        " IQR=Q3-Q1\n",
        "\n",
        " lower=df[i].quantile(0.25)-1.5*IQR\n",
        " upper=df[i].quantile(0.75)+1.5*IQR\n",
        "\n",
        " #Applying bounds\n",
        " df.loc[(df[i]>upper),i]=upper\n",
        " df.loc[(df[i]<lower),i]=lower"
      ],
      "metadata": {
        "id": "G5TyXJmMZXgv"
      },
      "execution_count": null,
      "outputs": []
    },
    {
      "cell_type": "code",
      "source": [
        "\n",
        "from scipy.stats import norm\n",
        "for i in outliers:\n",
        " plt.figure(figsize=(15,6))\n",
        " plt.subplot(1,2,1)\n",
        " ax=sns.boxplot(data=df[i])\n",
        " ax.set_title(f'{i}')\n",
        " ax.set_ylabel(i)\n",
        "\n",
        " plt.subplot(1,2,2)\n",
        " ax=sns.distplot(df[i],fit=norm)\n",
        " ax.set_title(f'Skewness of{i}:{df[i].skew()}')\n",
        " ax.set_xlabel(i)\n",
        " print('__'*50)\n",
        " plt.show()"
      ],
      "metadata": {
        "id": "jTSPqebfWJEq"
      },
      "execution_count": null,
      "outputs": []
    },
    {
      "cell_type": "markdown",
      "source": [
        "**Outliers are removed from variables adr and lead_time**"
      ],
      "metadata": {
        "id": "iruUQ-b-auwI"
      }
    },
    {
      "cell_type": "markdown",
      "source": [
        "###Data Wrangling and Feature Engineering"
      ],
      "metadata": {
        "id": "NiMbojqPa5Hd"
      }
    },
    {
      "cell_type": "code",
      "source": [
        "df['reserved_room_type']"
      ],
      "metadata": {
        "id": "AWB7971ia_pX"
      },
      "execution_count": null,
      "outputs": []
    },
    {
      "cell_type": "code",
      "source": [
        "#Change datatype of variables children and agent\n",
        "df[['children','agent']]=df[['children','agent']].astype('int64')\n",
        "\n",
        "#Change datatype of reservation_status_date to datetime64\n",
        "df['reservation_status_date']=pd.to_datetime(df['reservation_status_date'],format='%Y-%m-%d')\n",
        "\n",
        "#checking datatype\n",
        "df[['reservation_status_date','agent','children']].info()"
      ],
      "metadata": {
        "id": "OuyBMj3ibVHt"
      },
      "execution_count": null,
      "outputs": []
    },
    {
      "cell_type": "markdown",
      "source": [
        "**We change the datatype of children and agent to int type and reservation_status_date to datetime datatype**"
      ],
      "metadata": {
        "id": "T0LB2kW6dHiY"
      }
    },
    {
      "cell_type": "code",
      "source": [
        "#Adding night stays on week night and weekand night in one variable'total_stays'\n",
        "df['total_stays']=df['stays_in_weekend_nights']+df['stays_in_week_nights']\n",
        "\n",
        "#Converting adult ,babies and children to total_people\n",
        "df['total_people']=df['adults']+df['children']+df['babies']\n",
        "\n",
        "#Creating new variable by children and babies\n",
        "df['total_children']=df['children']+df['babies']\n",
        "\n",
        "#Creating new variable which describe same room assign\n",
        "df['reserved_room_assigned']=np.where(df['reserved_room_type']==df['assigned_room_type'],'yes','no')\n",
        "\n",
        "#Creating guest_category from total_people variable\n",
        "df['guest_category']=np.where(df['total_people']==1,'single',np.where(df['total_people']==2,'couple','family'))\n",
        "\n",
        "#Creating lead_time_category from lead_time\n",
        "df['lead_time_category']=np.where(df['lead_time']<=15,'low',np.where((df['lead_time']>15)& (df['lead_time']<90),'medium','high'))\n",
        "\n",
        "df.head()"
      ],
      "metadata": {
        "id": "GXtPQ5y2dWOW"
      },
      "execution_count": null,
      "outputs": []
    },
    {
      "cell_type": "code",
      "source": [
        "#Removed observation having value 0 in total_people\n",
        "df.drop(df[df['total_people']==0].index,inplace=True)\n",
        "\n",
        "#Checking info\n",
        "df.info()"
      ],
      "metadata": {
        "id": "wsqFxyf9iA7x"
      },
      "execution_count": null,
      "outputs": []
    },
    {
      "cell_type": "code",
      "source": [
        "#Converting datatype of variables total_people and total_children\n",
        "df['total_people']=df['total_people'].astype('int64')\n",
        "df['total_children']=df['total_children'].astype('int64')\n",
        "\n",
        "#checking type of variables\n",
        "df[['total_children','total_people']].info()"
      ],
      "metadata": {
        "id": "XwWcRiTsimIy"
      },
      "execution_count": null,
      "outputs": []
    },
    {
      "cell_type": "markdown",
      "source": [
        "# **Exploratory Data Analysis**"
      ],
      "metadata": {
        "id": "gK_6X6N6jPZa"
      }
    },
    {
      "cell_type": "markdown",
      "source": [
        "**Univariate Analysis**"
      ],
      "metadata": {
        "id": "IOwYPQm1mHa_"
      }
    },
    {
      "cell_type": "code",
      "source": [
        "#Obtaiining target variable\n",
        "excluded_var=[var for var in df.columns if len(df[var].value_counts())>15]\n",
        "target_var=[var for var in df.columns if var not in excluded_var]\n",
        "\n",
        "#Defining r to autofit the number of plots\n",
        "r=int(len(target_var)/3+1)"
      ],
      "metadata": {
        "id": "UOSS7VoDmGlA"
      },
      "execution_count": null,
      "outputs": []
    },
    {
      "cell_type": "code",
      "source": [
        "#Defining function to notate the count of each value\n",
        "def annot(axes):\n",
        " for p in plot.patches:\n",
        "  total=sum(p.get_height() for p in plot.patches)/100\n",
        "  percent=round((p.get_height()/total),2)\n",
        "  x=p.get_x()+p.get_width()/2\n",
        "  y=p.get_height()\n",
        "  plot.annotate(f'{percent}%',(x,y),ha='center',va='bottom')"
      ],
      "metadata": {
        "id": "8OIQqzAMnKQP"
      },
      "execution_count": null,
      "outputs": []
    },
    {
      "cell_type": "code",
      "source": [
        "#Plotting countplot for each variable\n",
        "plt.figure(figsize=(18,r*3))\n",
        "for n,var in enumerate(target_var):\n",
        " plot=plt.subplot(r,3,n+1)\n",
        " sns.countplot(x=df[var]).margins(y=0.15)\n",
        " plt.title(f'{var.title()}',weight='bold')\n",
        " plt.tight_layout()\n",
        " annot(plot)"
      ],
      "metadata": {
        "id": "GbSCscGcoQra"
      },
      "execution_count": null,
      "outputs": []
    },
    {
      "cell_type": "markdown",
      "source": [
        "####\n",
        "- A City hotel is most preferred by 61.07 percent of customers.\n",
        "\n",
        "- 72.48% bookings are not cancelled.Almost one -third of all reservation are cancelled\n",
        "\n",
        "- BB is most requested food.\n",
        "\n",
        "- Most of the bookings are made through the online platform.\n",
        "\n",
        "- The top distribution channel is TA/TO which is used to amke bookings.\n",
        "\n",
        "- The majority of hotel bookings are made by new customers.\n",
        "\n",
        "- The  most customers (80%) preferred to book hotel for a short stay.\n",
        "\n",
        "- The customers top preference is for Room type A to be reserved.\n",
        "\n",
        "- 70% chance will be that booking Will not cancelled.\n",
        "\n",
        "- 90% of people do not require parking spaces for their vehicles."
      ],
      "metadata": {
        "id": "vpXdkZ_VpVkl"
      }
    },
    {
      "cell_type": "markdown",
      "source": [
        "**Bivariate Analysis**"
      ],
      "metadata": {
        "id": "stxVaIulrT31"
      }
    },
    {
      "cell_type": "markdown",
      "source": [
        "**Q1. Is not having the reserved room assigned a reason for booking cancellation?**"
      ],
      "metadata": {
        "id": "gJNaWjbyrZcI"
      }
    },
    {
      "cell_type": "code",
      "source": [
        "#Countplot for is_cancelled and reserved_room_type\n",
        "plt.figure(figsize=(5,5))\n",
        "plot=plt.subplot(111)\n",
        "ax=sns.countplot(x=df['is_canceled'],hue=df['reserved_room_assigned'])\n",
        "ax.set_title('is_cancelled vs reserved_room_type')\n",
        "annot(plot)\n",
        "plt.show()"
      ],
      "metadata": {
        "id": "IdfpJB_Krv1B"
      },
      "execution_count": null,
      "outputs": []
    },
    {
      "cell_type": "markdown",
      "source": [
        "**The inability to assign a reserved room to customer is not ground for cancellation.Kess than 1% of customer who cancelled their booking**"
      ],
      "metadata": {
        "id": "C5_FMpyDsp24"
      }
    },
    {
      "cell_type": "markdown",
      "source": [
        "**Q2. Is high lead_time is reason for booking cancellation?**"
      ],
      "metadata": {
        "id": "sFVhWnSNtArY"
      }
    },
    {
      "cell_type": "code",
      "source": [
        "plt.figure(figsize=(5,5))\n",
        "plot=plt.subplot(111)\n",
        "ax=sns.countplot(x=df['lead_time_category'],hue=df['is_canceled'])\n",
        "ax.set_title('is_cancelled vs lead_time_category')\n",
        "annot(plot)\n",
        "plt.show()"
      ],
      "metadata": {
        "id": "rFlNRcbTtIoL"
      },
      "execution_count": null,
      "outputs": []
    },
    {
      "cell_type": "markdown",
      "source": [
        "**Customer who book hotels more than 15 days in advance are more likey to cancel their booking**"
      ],
      "metadata": {
        "id": "dteaJ-cqtiRp"
      }
    },
    {
      "cell_type": "markdown",
      "source": [
        "**Q3. How many people are Reservation made for?**"
      ],
      "metadata": {
        "id": "3OcxkpBFt2WD"
      }
    },
    {
      "cell_type": "code",
      "source": [
        "plt.figure(figsize=(5,5))\n",
        "plot=plt.subplot(111)\n",
        "ax=sns.countplot(x=df['hotel'],hue=df['guest_category'])\n",
        "ax.set_title('hotel vs guest_category')\n",
        "annot(plot)\n",
        "plt.show()"
      ],
      "metadata": {
        "id": "XPL9xrxyt-u-"
      },
      "execution_count": null,
      "outputs": []
    },
    {
      "cell_type": "markdown",
      "source": [
        "**Most customers book hotels for two people .A City hotel is preferred when booking for a single person**"
      ],
      "metadata": {
        "id": "G2uc8UNNuOCx"
      }
    },
    {
      "cell_type": "markdown",
      "source": [
        "**Q4. Which Hotel type has most advance reservation?**"
      ],
      "metadata": {
        "id": "e7XJ0aUvufbX"
      }
    },
    {
      "cell_type": "code",
      "source": [
        "plt.figure(figsize=(5,5))\n",
        "sns.violinplot(x=df['hotel'],y=df['lead_time'])\n",
        "ax.set_title('hotel vs lead_time')\n",
        "plt.show()"
      ],
      "metadata": {
        "id": "Xhgchef5ue1H"
      },
      "execution_count": null,
      "outputs": []
    },
    {
      "cell_type": "markdown",
      "source": [
        "**Guests book resorts hotel in advance**"
      ],
      "metadata": {
        "id": "WB7WdPWMvO5-"
      }
    },
    {
      "cell_type": "markdown",
      "source": [
        "**Q5. Which distribution channel has most cancellation of bookings?**"
      ],
      "metadata": {
        "id": "_Y27ZibJvYuv"
      }
    },
    {
      "cell_type": "code",
      "source": [
        "plt.figure(figsize=(5,5))\n",
        "plot=plt.subplot(111)\n",
        "ax=sns.countplot(x=df['distribution_channel'],hue=df['is_canceled'])\n",
        "ax.set_title('Booking cancelled by per distribution channel')\n",
        "annot(plot)\n",
        "plt.show()"
      ],
      "metadata": {
        "id": "KAP3xYVtvmtF"
      },
      "execution_count": null,
      "outputs": []
    },
    {
      "cell_type": "markdown",
      "source": [
        "**The majority of cancelled booking are made through TA/TO .**"
      ],
      "metadata": {
        "id": "Jxp7oBjZv8Ce"
      }
    },
    {
      "cell_type": "markdown",
      "source": [
        "**Q6. Which Market segment is used for booking hotel and booking cancelled?**"
      ],
      "metadata": {
        "id": "al4T-P_IwHzo"
      }
    },
    {
      "cell_type": "code",
      "source": [
        "plt.figure(figsize=(10,5))\n",
        "ax=sns.countplot(x=df['market_segment'],hue=df['is_canceled'])\n",
        "ax.set_title('booking cancelled per Market segment')\n",
        "plt.show()"
      ],
      "metadata": {
        "id": "0-Vdo_FMwZfl"
      },
      "execution_count": null,
      "outputs": []
    },
    {
      "cell_type": "markdown",
      "source": [
        "**The most of hotel reservations are made by online as are majority of cancellation of reservation made by customer.**"
      ],
      "metadata": {
        "id": "qhcm22BTw3LN"
      }
    },
    {
      "cell_type": "markdown",
      "source": [
        "**Q7. Which room generate a higher ADR?**"
      ],
      "metadata": {
        "id": "SNlUGhe4xMQs"
      }
    },
    {
      "cell_type": "code",
      "source": [
        "plt.figure(figsize=(15,8))\n",
        "ax=sns.boxplot(x=df['assigned_room_type'],y=df['adr'])\n",
        "ax.set_title('asdigned_room_type vs adr')\n",
        "plt.show()"
      ],
      "metadata": {
        "id": "Y5Hx3Fl3xTyP"
      },
      "execution_count": null,
      "outputs": []
    },
    {
      "cell_type": "markdown",
      "source": [
        "**Room type G, generate high ADR.Room  I has low ADR.The most popular room is A.But it has lower ADR**"
      ],
      "metadata": {
        "id": "R-TxiEwUxtdD"
      }
    },
    {
      "cell_type": "markdown",
      "source": [
        "**Q8. Which hotel type is busiest?**"
      ],
      "metadata": {
        "id": "W-aClagTyEYG"
      }
    },
    {
      "cell_type": "code",
      "source": [
        "plt.figure(figsize=(5,5))\n",
        "plot=plt.subplot(111)\n",
        "ax=sns.barplot(x=df['hotel'],y=df['days_in_waiting_list'])\n",
        "ax.set_title('hotel vs days_in_waiting_list')\n",
        "annot(plot)\n",
        "plt.show()"
      ],
      "metadata": {
        "id": "sQqApQQXyM4X"
      },
      "execution_count": null,
      "outputs": []
    },
    {
      "cell_type": "markdown",
      "source": [
        "**City hotel is busier than resort**"
      ],
      "metadata": {
        "id": "QhngyVy-yq6u"
      }
    },
    {
      "cell_type": "markdown",
      "source": [
        "**Q9. Which month is busiest for hotels?**"
      ],
      "metadata": {
        "id": "MRe3945ayvm-"
      }
    },
    {
      "cell_type": "code",
      "source": [
        "plt.figure(figsize=(10,7))\n",
        "plot=plt.subplot(111)\n",
        "ax=sns.barplot(x=df['arrival_date_month'],y=df['days_in_waiting_list'],hue=df['hotel'])\n",
        "ax.set_title('arrival_date_month vs days_in_waiting_list ')\n",
        "annot(plot)\n",
        "plt.tight_layout()\n",
        "plt.show()"
      ],
      "metadata": {
        "id": "hZdYi9n7y1sN"
      },
      "execution_count": null,
      "outputs": []
    },
    {
      "cell_type": "markdown",
      "source": [
        "**Customer refer city hotel for new year.The city hotel is busiest in October and september, which means this month has most booking.**"
      ],
      "metadata": {
        "id": "iNgwrnKKzoqB"
      }
    },
    {
      "cell_type": "markdown",
      "source": [
        "**Q10. Which customer type generate more revenue in terms of hotel type and customer type?**"
      ],
      "metadata": {
        "id": "-iwa__Ov0BwX"
      }
    },
    {
      "cell_type": "code",
      "source": [
        "plt.figure(figsize=(5,5))\n",
        "plot=plt.subplot(1,1,1)\n",
        "ax=sns.barplot(x=df['customer_type'],y=df['adr'],hue=df['hotel'])\n",
        "ax.set_title('customer_type vs adr in terms of hotel')\n",
        "annot(plot)\n",
        "plt.tight_layout()\n",
        "plt.show()"
      ],
      "metadata": {
        "id": "0Ukoad-r0QVa"
      },
      "execution_count": null,
      "outputs": []
    },
    {
      "cell_type": "markdown",
      "source": [
        "**City hotels generate more revenue that resort hotels . Transient customer who book rooms for a short period time genarate more revenue than other type of customer**"
      ],
      "metadata": {
        "id": "tUu2ykbP2zB1"
      }
    },
    {
      "cell_type": "markdown",
      "source": [
        "**Multivariate analysis**"
      ],
      "metadata": {
        "id": "_Hurr5ve3OWY"
      }
    },
    {
      "cell_type": "markdown",
      "source": [
        "**1. Correlation Heatmap**"
      ],
      "metadata": {
        "id": "AtBFdCv83UPW"
      }
    },
    {
      "cell_type": "code",
      "source": [
        "plt.figure(figsize=(15,7))\n",
        "sns.heatmap(df.corr(),vmin=-1,cmap='coolwarm',annot=True)\n",
        "plt.show()"
      ],
      "metadata": {
        "id": "1qpF-oin3ZtD"
      },
      "execution_count": null,
      "outputs": []
    },
    {
      "cell_type": "markdown",
      "source": [
        "**In Heatmap we see some high correlation between a few variable beacuse we created new features.**\n",
        "\n",
        "**The variable lead_time and is_canceled have weak relationship.The most likely reason for cancellation is longer lead_time**"
      ],
      "metadata": {
        "id": "m1lMEV1530oE"
      }
    },
    {
      "cell_type": "markdown",
      "source": [
        "**2. Pair plot**"
      ],
      "metadata": {
        "id": "c2V8-ByN4bJ-"
      }
    },
    {
      "cell_type": "code",
      "source": [
        "\n",
        "plt.figure(figsize=(10,8))\n",
        "ax=sns.pairplot(df)\n",
        "plt.show()"
      ],
      "metadata": {
        "id": "7mcAqwHK4e28"
      },
      "execution_count": null,
      "outputs": []
    },
    {
      "cell_type": "markdown",
      "source": [
        "**1. We can conclude that the relationship between lead_time and is _canceled that longer lead time not result in cancellation.**\n",
        "\n",
        "**2. According to the graph of arrival_date and days_in_waiting_list had longest waiting period for room booking.**"
      ],
      "metadata": {
        "id": "E9FtHXvI5Doq"
      }
    },
    {
      "cell_type": "markdown",
      "source": [
        "## **5. Solution to Business Objective**"
      ],
      "metadata": {
        "id": "JcMwzZxoAimU"
      }
    },
    {
      "cell_type": "markdown",
      "source": [
        "- Be proactive with communication.\n",
        "- Provide Good services like room service,Food.\n",
        "- Update your website, social media and prices.\n",
        "-Increase and improve your review.\n",
        "- Promote your food and beverage option.\n",
        "- Create a customer loyality program\n",
        "- Make attractive and expressive advertisement.\n",
        "- Use fresh, intresting content to answer the customer question.\n",
        "\n",
        "- Define a roadmap to new customer.\n",
        "- Ask for feedback often."
      ],
      "metadata": {
        "id": "8G2x9gOozGDZ"
      }
    },
    {
      "cell_type": "markdown",
      "source": [
        "# **Conclusion**"
      ],
      "metadata": {
        "id": "gCX9965dhzqZ"
      }
    },
    {
      "cell_type": "markdown",
      "source": [
        "**1. A city hotel has more bookings than the resort.offer package and promote booking  for resort hotel**\n",
        "\n",
        "**2. BB is most requested food.The hotel should maintain the food quality while offering discounts on other foods to promote other food types.**\n",
        "\n",
        "**3. Most of bookings are made from online plateform**\n",
        "\n",
        "**4. Very few customer visited again.so hotel can increase repeat booking  by offering the right repeat booking insentive**\n",
        "\n",
        "**5. Because rooms A and D are most popular with customer the hotel should maintain their quality.**\n",
        "\n",
        "**6. Customers do not want to pay pre- deposit for a reservation.Hotels should promote advance deposit because not only does an advance deposit allow you to recognise revenue faster**\n",
        "\n",
        "**7. People's book rooms for two people.So, encourage family and group booking.**"
      ],
      "metadata": {
        "id": "Fjb1IsQkh3yE"
      }
    },
    {
      "cell_type": "markdown",
      "source": [
        "### ***Hurrah! You have successfully completed your EDA Capstone Project !!!***"
      ],
      "metadata": {
        "id": "gIfDvo9L0UH2"
      }
    }
  ]
}