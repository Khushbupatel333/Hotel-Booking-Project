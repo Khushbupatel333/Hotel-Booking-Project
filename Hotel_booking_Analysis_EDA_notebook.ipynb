{
  "nbformat": 4,
  "nbformat_minor": 0,
  "metadata": {
    "colab": {
      "private_outputs": true,
      "provenance": [],
      "collapsed_sections": [
        "vncDsAP0Gaoa",
        "FJNUwmbgGyua",
        "w6K7xa23Elo4",
        "yQaldy8SH6Dl",
        "PH-0ReGfmX4f",
        "mDgbUHAGgjLW",
        "O_i_v8NEhb9l",
        "HhfV-JJviCcP",
        "Y3lxredqlCYt",
        "3RnN4peoiCZX",
        "x71ZqKXriCWQ",
        "7hBIi_osiCS2",
        "JlHwYmJAmNHm",
        "35m5QtbWiB9F",
        "PoPl-ycgm1ru",
        "H0kj-8xxnORC",
        "nA9Y7ga8ng1Z",
        "PBTbrJXOngz2",
        "u3PMJOP6ngxN",
        "dauF4eBmngu3",
        "bKJF3rekwFvQ",
        "MSa1f5Uengrz",
        "GF8Ens_Soomf",
        "0wOQAZs5pc--",
        "K5QZ13OEpz2H",
        "lQ7QKXXCp7Bj",
        "448CDAPjqfQr",
        "KSlN3yHqYklG",
        "t6dVpIINYklI",
        "ijmpgYnKYklI",
        "-JiQyfWJYklI",
        "EM7whBJCYoAo",
        "fge-S5ZAYoAp",
        "85gYPyotYoAp",
        "RoGjAbkUYoAp",
        "4Of9eVA-YrdM",
        "iky9q4vBYrdO",
        "F6T5p64dYrdO",
        "y-Ehk30pYrdP",
        "bamQiAODYuh1",
        "QHF8YVU7Yuh3",
        "GwzvFGzlYuh3",
        "qYpmQ266Yuh3",
        "OH-pJp9IphqM",
        "bbFf2-_FphqN",
        "_ouA3fa0phqN",
        "Seke61FWphqN",
        "PIIx-8_IphqN",
        "t27r6nlMphqO",
        "r2jJGEOYphqO",
        "b0JNsNcRphqO",
        "BZR9WyysphqO",
        "jj7wYXLtphqO",
        "eZrbJ2SmphqO",
        "rFu4xreNphqO",
        "YJ55k-q6phqO",
        "gCFgpxoyphqP",
        "OVtJsKN_phqQ",
        "lssrdh5qphqQ",
        "U2RJ9gkRphqQ",
        "1M8mcRywphqQ",
        "tgIPom80phqQ",
        "JMzcOPDDphqR",
        "x-EpHcCOp1ci",
        "X_VqEhTip1ck",
        "8zGJKyg5p1ck",
        "PVzmfK_Ep1ck",
        "n3dbpmDWp1ck",
        "ylSl6qgtp1ck",
        "ZWILFDl5p1ck",
        "M7G43BXep1ck",
        "Ag9LCva-p1cl",
        "E6MkPsBcp1cl",
        "2cELzS2fp1cl",
        "3MPXvC8up1cl",
        "NC_X3p0fY2L0",
        "UV0SzAkaZNRQ",
        "YPEH6qLeZNRQ",
        "q29F0dvdveiT",
        "EXh0U9oCveiU",
        "22aHeOlLveiV",
        "JcMwzZxoAimU",
        "8G2x9gOozGDZ",
        "gCX9965dhzqZ",
        "gIfDvo9L0UH2"
      ],
      "include_colab_link": true
    },
    "kernelspec": {
      "name": "python3",
      "display_name": "Python 3"
    },
    "language_info": {
      "name": "python"
    }
  },
  "cells": [
    {
      "cell_type": "markdown",
      "metadata": {
        "id": "view-in-github",
        "colab_type": "text"
      },
      "source": [
        "<a href=\"https://colab.research.google.com/github/Khushbupatel333/Hotel-Booking-Project/blob/main/Hotel_booking_Analysis_EDA_notebook.ipynb\" target=\"_parent\"><img src=\"https://colab.research.google.com/assets/colab-badge.svg\" alt=\"Open In Colab\"/></a>"
      ]
    },
    {
      "cell_type": "markdown",
      "source": [
        "# **Project Name**    -\n",
        "\n",
        "Hotel Booking Analysis"
      ],
      "metadata": {
        "id": "vncDsAP0Gaoa"
      }
    },
    {
      "cell_type": "markdown",
      "source": [
        "##### **Project Type**    - EDA\n",
        "##### **Contribution**    - Individual"
      ],
      "metadata": {
        "id": "beRrZCGUAJYm"
      }
    },
    {
      "cell_type": "markdown",
      "source": [
        "#GitHub Link :-"
      ],
      "metadata": {
        "id": "w6K7xa23Elo4"
      }
    },
    {
      "cell_type": "markdown",
      "source": [
        "https://github.com/Khushbupatel333/Hotel-Booking-Project/blob/main/README.md"
      ],
      "metadata": {
        "id": "h1o69JH3Eqqn"
      }
    },
    {
      "cell_type": "markdown",
      "source": [
        "# **Problem Statement**\n"
      ],
      "metadata": {
        "id": "yQaldy8SH6Dl"
      }
    },
    {
      "cell_type": "markdown",
      "source": [
        " A hotel system is all about rooms, reservation and cancelletion.A Customer make reservations,change the booking.\n",
        "   \n",
        "    \n",
        "A desk clerk in a hotel at the time of checked out change the checkout date andbcheck out the customer.A room assign to customer at check time and customer bill records are updated.\n",
        "\n",
        "  A customer can be pay by cash or credit when check out. This all things are part of hotel booking services.The Hotel Booking Dataset can help you to explore and clear all doubts and questions related to hotel booking system."
      ],
      "metadata": {
        "id": "DpeJGUA3kjGy"
      }
    },
    {
      "cell_type": "markdown",
      "source": [
        "#### **Define Your Business Objective?**"
      ],
      "metadata": {
        "id": "PH-0ReGfmX4f"
      }
    },
    {
      "cell_type": "markdown",
      "source": [
        "To analysing data To solve Booking related issues."
      ],
      "metadata": {
        "id": "PhDvGCAqmjP1"
      }
    },
    {
      "cell_type": "markdown",
      "source": [
        "# **General Guidelines** : -  "
      ],
      "metadata": {
        "id": "mDgbUHAGgjLW"
      }
    },
    {
      "cell_type": "markdown",
      "source": [
        "1.   Well-structured, formatted, and commented code is required.\n",
        "2.   Exception Handling, Production Grade Code & Deployment Ready Code will be a plus. Those students will be awarded some additional credits.\n",
        "     \n",
        "     The additional credits will have advantages over other students during Star Student selection.\n",
        "       \n",
        "             [ Note: - Deployment Ready Code is defined as, the whole .ipynb notebook should be executable in one go\n",
        "                       without a single error logged. ]\n",
        "\n",
        "3.   Each and every logic should have proper comments.\n",
        "4. You may add as many number of charts you want. Make Sure for each and every chart the following format should be answered.\n",
        "        \n",
        "\n",
        "```\n",
        "# Chart visualization code\n",
        "```\n",
        "            \n",
        "\n",
        "*   Why did you pick the specific chart?\n",
        "*   What is/are the insight(s) found from the chart?\n",
        "* Will the gained insights help creating a positive business impact?\n",
        "Are there any insights that lead to negative growth? Justify with specific reason.\n",
        "\n",
        "5. You have to create at least 20 logical & meaningful charts having important insights.\n",
        "\n",
        "\n",
        "[ Hints : - Do the Vizualization in  a structured way while following \"UBM\" Rule.\n",
        "\n",
        "U - Univariate Analysis,\n",
        "\n",
        "B - Bivariate Analysis (Numerical - Categorical, Numerical - Numerical, Categorical - Categorical)\n",
        "\n",
        "M - Multivariate Analysis\n",
        " ]\n",
        "\n",
        "\n",
        "\n"
      ],
      "metadata": {
        "id": "ZrxVaUj-hHfC"
      }
    },
    {
      "cell_type": "code",
      "source": [],
      "metadata": {
        "id": "LKp2qfb2fnt7"
      },
      "execution_count": null,
      "outputs": []
    },
    {
      "cell_type": "markdown",
      "source": [
        "# ***Let's Begin !***"
      ],
      "metadata": {
        "id": "O_i_v8NEhb9l"
      }
    },
    {
      "cell_type": "markdown",
      "source": [
        "## ***1. Know Your Data***"
      ],
      "metadata": {
        "id": "HhfV-JJviCcP"
      }
    },
    {
      "cell_type": "markdown",
      "source": [
        "### Import Libraries"
      ],
      "metadata": {
        "id": "Y3lxredqlCYt"
      }
    },
    {
      "cell_type": "code",
      "source": [
        "# Import Libraries\n",
        "import numpy as np\n",
        "import pandas as pd\n",
        "from numpy import math\n",
        "from numpy import loadtxt\n",
        "import seaborn as sns\n",
        "import matplotlib\n",
        "import matplotlib.pyplot as plt\n",
        "import folium"
      ],
      "metadata": {
        "id": "M8Vqi-pPk-HR"
      },
      "execution_count": null,
      "outputs": []
    },
    {
      "cell_type": "markdown",
      "source": [
        "### Dataset Loading"
      ],
      "metadata": {
        "id": "3RnN4peoiCZX"
      }
    },
    {
      "cell_type": "code",
      "source": [
        "# Load Dataset\n",
        "import pandas as pd\n",
        "dataset = {'Hotel' : ['Rosort Hotel','City Hotel','City Hotel ','Resort Hotel','City Hotel','City Hotel','Resort hotel','City Hotel','Resort Hotel','City Hotel','City Hotel','resort Hotel','City Hotel','City Hotel','City Hotel'],\n",
        "        'is_cancelled' : [6,2,'',5,'',3,6,2,3,'','','',6,'',8],\n",
        "         'arrival_year' : [2012,2018,2012,2019,2021,2017,2011,2016,2014,2019,2016,2010,2015,2009,2026],\n",
        "         'arrival_month' : ['May','July','May','April','October','May','Jan','March','Feb','Nov','May','May','April','April','June'],\n",
        "         'Adult' : [3,2,3,4,2,3,2,4,1,2,1,2,4,0,2],\n",
        "         'Children' : [1,0,2,1,1,1,0,0,1,2,0,1,2,1,0],\n",
        "         'Babies' : [0,1,0,0,0,1,0,1,0,1,1,1,0,1,1],\n",
        "         'meal' : ['FB','FB','BB','BB','BB','BB','FB','FB','BB','BB','FB','FB','BB','BB','BB'],\n",
        "         'Country' : ['India','USA','Paris','India','USA','Paris','USA','USA','USA','India','India','India','India','USA','USA'],\n",
        "         'is_repeated_guest' : [0,'',1,0,1,'',4,6,'',3,'','',2,1,4],\n",
        "         'previous_cancellation': [3,4,2,1,0,'',3,5,6,7,'','',3,8,5],\n",
        "         'reserved_room_type' : ['AC','Normal','Normal','AC','AC','AC','AC','AC','AC','AC','AC','AC','AC','AC','AC'],\n",
        "         'booking_changes': [3,2,5,1,2,3,4,2,4,5,3,4,2,7,1],\n",
        "         'deposit_type': ['No deposit','refund','No deposit','No deposit','refund','refund','refund','refund','No deposit','No deposit','refund','refund','refund','refund','refund'],\n",
        "         'customer_type': ['Group','Transient','Transient','Group','Group','Group','Group','Group','Group','Group','Group','Group','Group','Group','Group'],\n",
        "         'reservation_status': ['checked out','cancelled','cancelled','cancelled','checked out','cancelled','cancelled','cancelled','Cancelled','Cancelled','Cancelled','Cancelled','Cancelled','checked out','cancelled'],\n",
        "          'Number_of_booking': [2,1,0,1,0,20,3,5,21,10,3,9,6,7,8],\n",
        "\n",
        "       }\n",
        "df = pd . DataFrame(dataset)\n",
        "print(df)"
      ],
      "metadata": {
        "id": "4CkvbW_SlZ_R"
      },
      "execution_count": null,
      "outputs": []
    },
    {
      "cell_type": "markdown",
      "source": [
        "### Dataset First View"
      ],
      "metadata": {
        "id": "x71ZqKXriCWQ"
      }
    },
    {
      "cell_type": "code",
      "source": [
        "# Dataset First Look\n",
        "df.head()"
      ],
      "metadata": {
        "id": "LWNFOSvLl09H"
      },
      "execution_count": null,
      "outputs": []
    },
    {
      "cell_type": "markdown",
      "source": [
        "### Dataset Rows & Columns count"
      ],
      "metadata": {
        "id": "7hBIi_osiCS2"
      }
    },
    {
      "cell_type": "code",
      "source": [
        "# Dataset Rows & Columns count\n",
        "df.shape"
      ],
      "metadata": {
        "id": "Kllu7SJgmLij"
      },
      "execution_count": null,
      "outputs": []
    },
    {
      "cell_type": "markdown",
      "source": [
        "### Dataset Information"
      ],
      "metadata": {
        "id": "JlHwYmJAmNHm"
      }
    },
    {
      "cell_type": "code",
      "source": [
        "# Dataset Info\n",
        "df.info()"
      ],
      "metadata": {
        "id": "e9hRXRi6meOf"
      },
      "execution_count": null,
      "outputs": []
    },
    {
      "cell_type": "markdown",
      "source": [
        "#### Duplicate Values"
      ],
      "metadata": {
        "id": "35m5QtbWiB9F"
      }
    },
    {
      "cell_type": "code",
      "source": [
        "# Dataset Duplicate Value Count\n",
        "len(df[df.duplicated()])"
      ],
      "metadata": {
        "id": "1sLdpKYkmox0"
      },
      "execution_count": null,
      "outputs": []
    },
    {
      "cell_type": "markdown",
      "source": [
        "#### Missing Values/Null Values"
      ],
      "metadata": {
        "id": "PoPl-ycgm1ru"
      }
    },
    {
      "cell_type": "code",
      "source": [
        "# Missing Values/Null Values Count\n",
        "print(df.isnull())"
      ],
      "metadata": {
        "id": "GgHWkxvamxVg"
      },
      "execution_count": null,
      "outputs": []
    },
    {
      "cell_type": "code",
      "source": [
        "# Visualizing the missing values\n",
        "sns.heatmap(df.isnull(),cbar=False)"
      ],
      "metadata": {
        "id": "3q5wnI3om9sJ"
      },
      "execution_count": null,
      "outputs": []
    },
    {
      "cell_type": "markdown",
      "source": [
        "### What did you know about your dataset?"
      ],
      "metadata": {
        "id": "H0kj-8xxnORC"
      }
    },
    {
      "cell_type": "markdown",
      "source": [
        "The given dataset is a dataset of Hotel booking and we have to analysis the data and the insights behind it.\n",
        "\n",
        "The goal is to understand the issues and problems from customer side and also from perticular hotel or organisation and take step to change it.\n",
        "\n",
        "The above dataset has  15 rows and 17 columns.There and no missing values and duplicate values in the dataset"
      ],
      "metadata": {
        "id": "gfoNAAC-nUe_"
      }
    },
    {
      "cell_type": "markdown",
      "source": [
        "## ***2. Understanding Your Variables***"
      ],
      "metadata": {
        "id": "nA9Y7ga8ng1Z"
      }
    },
    {
      "cell_type": "code",
      "source": [
        "# Dataset Columns\n",
        "df.columns"
      ],
      "metadata": {
        "id": "j7xfkqrt5Ag5"
      },
      "execution_count": null,
      "outputs": []
    },
    {
      "cell_type": "code",
      "source": [
        "# Dataset Describe\n",
        "df.describe(include='all')"
      ],
      "metadata": {
        "id": "DnOaZdaE5Q5t"
      },
      "execution_count": null,
      "outputs": []
    },
    {
      "cell_type": "markdown",
      "source": [
        "### Variables Description"
      ],
      "metadata": {
        "id": "PBTbrJXOngz2"
      }
    },
    {
      "cell_type": "markdown",
      "source": [
        "Hotel: Name of the hotel(City or Resort)\n",
        "\n",
        "\n",
        "is_cancelled :Number of cancelled Booking\n",
        "\n",
        "\n",
        "arrive_year : Year of Customer arrival\n",
        "\n",
        "\n",
        "arrive _ month:Month of Customer arrival\n",
        "\n",
        "Adult : Number of Adult\n",
        "\n",
        "\n",
        "Children :Number of Children\n",
        "\n",
        "\n",
        "Babies: Number of Babies\n",
        "\n",
        "\n",
        "meal: Type of meal(HB,FB,BB)\n",
        "\n",
        "\n",
        "Country: Name of country\n",
        "\n",
        "is_ repeated_guest: Number of repeated guest\n",
        "\n",
        "\n",
        "previous_cancellation:Number of Previous cancelled booking\n",
        "\n",
        "\n",
        "reserved_room_type: Type of room(Ac or normal)\n",
        "\n",
        "booking_changes: Number of booking chages\n",
        "\n",
        "deposit_type:Type of deposit(No deposit or refund)\n",
        "\n",
        "customer_type: Type of customer (Group or transient)\n",
        "\n",
        "reservation_status:Reservation condition (checked out or cancelled)\n",
        "\n",
        "Number_of_ booking:Number of booking"
      ],
      "metadata": {
        "id": "aJV4KIxSnxay"
      }
    },
    {
      "cell_type": "markdown",
      "source": [
        "### Check Unique Values for each variable."
      ],
      "metadata": {
        "id": "u3PMJOP6ngxN"
      }
    },
    {
      "cell_type": "code",
      "source": [
        "# Check Unique Values for each variable.\n",
        "for i in df.columns.tolist():\n",
        " print(' Unique values are:',i,'is',df[i].unique())"
      ],
      "metadata": {
        "id": "zms12Yq5n-jE"
      },
      "execution_count": null,
      "outputs": []
    },
    {
      "cell_type": "markdown",
      "source": [
        "## 3. ***Data Wrangling***"
      ],
      "metadata": {
        "id": "dauF4eBmngu3"
      }
    },
    {
      "cell_type": "markdown",
      "source": [
        "### Data Wrangling Code"
      ],
      "metadata": {
        "id": "bKJF3rekwFvQ"
      }
    },
    {
      "cell_type": "code",
      "source": [
        "# Write your code to make your dataset analysis ready.\n",
        "#Create a copy of data to new data.\n",
        "dataset=df.copy()\n",
        "#print(dataset)\n",
        "\n",
        "#getting unique County\n",
        "print('Unique countries are:',dataset['Country'].unique ())\n",
        "\n",
        "#getting unique Country count\n",
        "print('Unique country count is:',dataset['Country'].nunique())\n",
        "\n",
        "#data group by Customer Type\n",
        "pd.DataFrame(dataset.groupby('customer_type')['Number_of_booking'].value_counts())\n",
        "\n",
        "#Removing duplicate values\n",
        "non_duplicate=dataset[~dataset.duplicated()]\n",
        "print(non_duplicate)\n",
        "\n",
        "#Handling missing values\n",
        "#Replacing missing value to NaN\n",
        "dataset=dataset.replace('',np.NaN)\n",
        "#print(dataset)\n",
        "\n",
        "#Evaluating for missing values\n",
        "dataset.isnull().any().any()\n",
        "\n",
        "#Count missing values in each column\n",
        "dataset.isnull().sum()\n",
        "\n",
        "#Replacing Null values by mean\n",
        "#Calculating the average of the column\n",
        "avg_is_can=dataset['is_cancelled'].astype('float').mean()\n",
        "print(avg_is_can)\n",
        "\n",
        "#Replace NaN by mean value in is_cancelled column\n",
        "dataset['is_cancelled'].replace(np.NaN,avg_is_can,inplace=True)\n",
        "dataset['is_cancelled']\n",
        "\n",
        "#Calculating the average of the column\n",
        "avg_repeated_guest=dataset['is_repeated_guest'].astype('float').mean()\n",
        "print(avg_repeated_guest)\n",
        "\n",
        "#Replace NaN by mean value in is_repeated_guest column\n",
        "dataset['is_repeated_guest'].replace(np.NaN,avg_repeated_guest,inplace=True)\n",
        "dataset['is_repeated_guest']\n",
        "\n",
        "#Calculating the average of the column\n",
        "avg_pre_can=dataset['previous_cancellation'].astype('float').mean()\n",
        "print(avg_pre_can)\n",
        "\n",
        "#Replace NaN by mean value in previous_cancellation column\n",
        "dataset['previous_cancellation'].replace(np.NaN,avg_pre_can,inplace=True)\n",
        "dataset['previous_cancellation']\n",
        "dataset\n",
        "\n",
        "#Reshaping the data\n",
        "#Categorize room_type\n",
        "dataset ['reserved_room_type']=dataset ['reserved_room_type'].map({'AC':1,'Normal':0}).astype('int')\n",
        "dataset"
      ],
      "metadata": {
        "id": "wk-9a2fpoLcV"
      },
      "execution_count": null,
      "outputs": []
    },
    {
      "cell_type": "markdown",
      "source": [
        "### What all manipulations have you done and insights you found?"
      ],
      "metadata": {
        "id": "MSa1f5Uengrz"
      }
    },
    {
      "cell_type": "markdown",
      "source": [
        "- I have done some updation and changes in my data using some python built in function and methods.\n",
        "\n",
        "- First of all I copied my data in another variable called dataset.\n",
        "\n",
        "- Then I used unique() method to fetch unique value from data.So I used unique method on Country column to get unique country.So I got list of country from data.\n",
        "\n",
        "- After this I used nunique() method to get count of unique values so I used this method on Country column and I got\n",
        "result 3 the number of unique country.\n",
        "\n",
        "- Then I checked duplicate values using duplicated method on data.So I got data without duplicate values.\n",
        "\n",
        "- Next step was to find null and missing values and handling them.For that first I replace null or missing values with NaN value in whole data.\n",
        "\n",
        "- Then I evaluate null value using method isnull().So I got null or missing values in data.\n",
        "\n",
        "- After I used sum() function along with isnull() method to Calculate number of null or missing values in each column.\n",
        "\n",
        "- Then I replace null values with mean of that column.First I calculate the average of that column and store it in another variable.Then I replace the average with null values.\n",
        "\n",
        "- this I repeated this process for each column with null or missing values.And then I reshaped the column room_type and change the datatype to int.\n",
        "\n",
        "- Finally I got well sorted and maintain data with proper format."
      ],
      "metadata": {
        "id": "LbyXE7I1olp8"
      }
    },
    {
      "cell_type": "markdown",
      "source": [
        "## ***4. Data Vizualization, Storytelling & Experimenting with charts : Understand the relationships between variables***"
      ],
      "metadata": {
        "id": "GF8Ens_Soomf"
      }
    },
    {
      "cell_type": "markdown",
      "source": [
        " Chart - 1  Customer arrive from each country"
      ],
      "metadata": {
        "id": "0wOQAZs5pc--"
      }
    },
    {
      "cell_type": "code",
      "source": [
        "# Chart - 1 visualization code\n",
        "#importing libraries\n",
        "import pandas as pd\n",
        "import matplotlib.pyplot as plt\n",
        "#loading data\n",
        "data = pd. DataFrame(df)\n",
        "plt.bar(data['arrival_month'],data['Country'])\n",
        "#Title to Chart\n",
        "plt.title('scatter plot')\n",
        "plt.xlabel('month')\n",
        "plt.ylabel('Country')\n",
        "plt.show()"
      ],
      "metadata": {
        "id": "7v_ESjsspbW7"
      },
      "execution_count": null,
      "outputs": []
    },
    {
      "cell_type": "markdown",
      "source": [
        "##### 1. Why did you pick the specific chart?"
      ],
      "metadata": {
        "id": "K5QZ13OEpz2H"
      }
    },
    {
      "cell_type": "markdown",
      "source": [
        "  Bar charts are used to show distribution of values in the database.Using bar charts we see which subgroup is highest or most common and how other groups are compare.\n",
        "   \n",
        "  So I have used bar chart to campare the guest arrival in specific month."
      ],
      "metadata": {
        "id": "XESiWehPqBRc"
      }
    },
    {
      "cell_type": "markdown",
      "source": [
        "##### 2. What is/are the insight(s) found from the chart?"
      ],
      "metadata": {
        "id": "lQ7QKXXCp7Bj"
      }
    },
    {
      "cell_type": "markdown",
      "source": [
        "With the help of bar chart we have noted that In May month the number of guests are maximum from Paris compare to other Country."
      ],
      "metadata": {
        "id": "C_j1G7yiqdRP"
      }
    },
    {
      "cell_type": "markdown",
      "source": [
        "##### 3. Will the gained insights help creating a positive business impact?\n",
        "Are there any insights that lead to negative growth? Justify with specific reason."
      ],
      "metadata": {
        "id": "448CDAPjqfQr"
      }
    },
    {
      "cell_type": "markdown",
      "source": [
        "Yes,maximum customer arrival in  hotels is positive impact in business."
      ],
      "metadata": {
        "id": "3cspy4FjqxJW"
      }
    },
    {
      "cell_type": "markdown",
      "source": [
        "Chart - 2 Histogram On arrival_year column"
      ],
      "metadata": {
        "id": "KSlN3yHqYklG"
      }
    },
    {
      "cell_type": "code",
      "source": [
        "# Chart - 2 visualization code\n",
        "data = pd. DataFrame(df)\n",
        "plt. hist(data['arrival_year'])\n",
        "plt. title('Histogram')\n",
        "plt. show()"
      ],
      "metadata": {
        "id": "R4YgtaqtYklH"
      },
      "execution_count": null,
      "outputs": []
    },
    {
      "cell_type": "markdown",
      "source": [
        "##### 1. Why did you pick the specific chart?"
      ],
      "metadata": {
        "id": "t6dVpIINYklI"
      }
    },
    {
      "cell_type": "markdown",
      "source": [
        "Histogram is a graph showing frequency distribution .It is graph showing the number of observation within each given interval.\n",
        "\n",
        "  So I used histogram on column arrival_year of Dataset."
      ],
      "metadata": {
        "id": "5aaW0BYyYklI"
      }
    },
    {
      "cell_type": "markdown",
      "source": [
        "##### 2. What is/are the insight(s) found from the chart?"
      ],
      "metadata": {
        "id": "ijmpgYnKYklI"
      }
    },
    {
      "cell_type": "markdown",
      "source": [
        "With the hepl of above histogram chart we observed that maximum guest arrival years are 2012 and 2020."
      ],
      "metadata": {
        "id": "PSx9atu2YklI"
      }
    },
    {
      "cell_type": "markdown",
      "source": [
        "##### 3. Will the gained insights help creating a positive business impact?\n",
        "Are there any insights that lead to negative growth? Justify with specific reason."
      ],
      "metadata": {
        "id": "-JiQyfWJYklI"
      }
    },
    {
      "cell_type": "markdown",
      "source": [
        "Histogram is graph showing the numbr of observation within each given intervals.Just Histogram cannot define the business impact it's just done to see distribution of columns"
      ],
      "metadata": {
        "id": "BcBbebzrYklV"
      }
    },
    {
      "cell_type": "markdown",
      "source": [
        " Chart - 3 Country wise Booking rate"
      ],
      "metadata": {
        "id": "EM7whBJCYoAo"
      }
    },
    {
      "cell_type": "code",
      "source": [
        "# Chart - 3 visualization code\n",
        "# loading data\n",
        "data = pd. DataFrame(df)\n",
        "#Graph for Number of booking againts country\n",
        "plt.title('line chart')\n",
        "plt.plot(data['Country'],data['Number_of_booking'])\n",
        "plt.xlabel('Country')\n",
        "plt.ylabel('Number of Booking')\n",
        "plt.show()"
      ],
      "metadata": {
        "id": "t6GMdE67YoAp"
      },
      "execution_count": null,
      "outputs": []
    },
    {
      "cell_type": "markdown",
      "source": [
        "##### 1. Why did you pick the specific chart?"
      ],
      "metadata": {
        "id": "fge-S5ZAYoAp"
      }
    },
    {
      "cell_type": "markdown",
      "source": [
        "Line charts are used to represent the relation between two data on different axis .This display evaluation of one or more numeric  variable.Line graphs can also be used as a tool for comparison."
      ],
      "metadata": {
        "id": "5dBItgRVYoAp"
      }
    },
    {
      "cell_type": "markdown",
      "source": [
        "##### 2. What is/are the insight(s) found from the chart?"
      ],
      "metadata": {
        "id": "85gYPyotYoAp"
      }
    },
    {
      "cell_type": "markdown",
      "source": [
        "I used line charts to show comparison between two columns that are repeated_guest and Country.We observe that the maximum repeated guests are from Country USA."
      ],
      "metadata": {
        "id": "4jstXR6OYoAp"
      }
    },
    {
      "cell_type": "markdown",
      "source": [
        "#### Chart - 4. Type of meal in hotel according to Customer Type"
      ],
      "metadata": {
        "id": "4Of9eVA-YrdM"
      }
    },
    {
      "cell_type": "code",
      "source": [
        "# Chart - 4 visualization code\n",
        "import seaborn as sns\n",
        "sns.scatterplot(x='Hotel',y='meal',data=data,hue='customer_type')\n",
        "plt.show()"
      ],
      "metadata": {
        "id": "irlUoxc8YrdO"
      },
      "execution_count": null,
      "outputs": []
    },
    {
      "cell_type": "markdown",
      "source": [
        "##### 1. Why did you pick the specific chart?"
      ],
      "metadata": {
        "id": "iky9q4vBYrdO"
      }
    },
    {
      "cell_type": "markdown",
      "source": [
        "The sactter plot is uses dots to show values for different variables.The position of each dot on the horizontal and vertical axis indicates values for an individual data points.It is to observe relationship between variable.\n",
        "\n",
        "   Thus for showing relation between two columns I have used scatter plot on Hotel and is_cancelled column."
      ],
      "metadata": {
        "id": "aJRCwT6DYrdO"
      }
    },
    {
      "cell_type": "markdown",
      "source": [
        "##### 2. What is/are the insight(s) found from the chart?"
      ],
      "metadata": {
        "id": "F6T5p64dYrdO"
      }
    },
    {
      "cell_type": "markdown",
      "source": [
        "In above graph, we have used sactter plot on two columns Hotel and is_ cancelled.We have observed that the City Hotel cancellation is greater than resort Hotel."
      ],
      "metadata": {
        "id": "Xx8WAJvtYrdO"
      }
    },
    {
      "cell_type": "markdown",
      "source": [
        "##### 3. Will the gained insights help creating a positive business impact?\n",
        "Are there any insights that lead to negative growth? Justify with specific reason."
      ],
      "metadata": {
        "id": "y-Ehk30pYrdP"
      }
    },
    {
      "cell_type": "markdown",
      "source": [
        "This is very obvious reason to lead negetive business impact.Good type of food quality is the important factor in hotel booking.Food quality can affect the booking status."
      ],
      "metadata": {
        "id": "jLNxxz7MYrdP"
      }
    },
    {
      "cell_type": "markdown",
      "source": [
        "#### Chart - 5. Year wise Analysis"
      ],
      "metadata": {
        "id": "bamQiAODYuh1"
      }
    },
    {
      "cell_type": "code",
      "source": [
        "# Chart - 5 visualization code\n",
        "import pandas as pd\n",
        "data = pd.DataFrame(df)\n",
        "plt.bar(data['arrival_year'],data['Number_of_booking'])\n",
        "plt.title('Year wise analysis')\n",
        "plt.xlabel('Arrival Year')\n",
        "plt.ylabel('Number of booking')\n",
        "plt.show()\n",
        "\n",
        "print(' Total number of booking:',df['Number_of_booking'].sum())"
      ],
      "metadata": {
        "id": "TIJwrbroYuh3"
      },
      "execution_count": null,
      "outputs": []
    },
    {
      "cell_type": "markdown",
      "source": [
        "##### 1. Why did you pick the specific chart?"
      ],
      "metadata": {
        "id": "QHF8YVU7Yuh3"
      }
    },
    {
      "cell_type": "markdown",
      "source": [
        "It shows the frequency of counts of values for the different levels of categorical.Sometimes,bar charts represent shows other statictics such as percentage.When the changes are large a bar charts are best option to represent data.\n",
        "  \n",
        "   So I have used bar chart to show maximum cancellation rate and maximum repeated guest."
      ],
      "metadata": {
        "id": "dcxuIMRPYuh3"
      }
    },
    {
      "cell_type": "markdown",
      "source": [
        "##### 2. What is/are the insight(s) found from the chart?"
      ],
      "metadata": {
        "id": "GwzvFGzlYuh3"
      }
    },
    {
      "cell_type": "markdown",
      "source": [
        "From above graph we have observed that   the maximum number of repeated guest is 6 and maximum booking cancelled is 10."
      ],
      "metadata": {
        "id": "uyqkiB8YYuh3"
      }
    },
    {
      "cell_type": "markdown",
      "source": [
        "##### 3. Will the gained insights help creating a positive business impact?\n",
        "Are there any insights that lead to negative growth? Justify with specific reason."
      ],
      "metadata": {
        "id": "qYpmQ266Yuh3"
      }
    },
    {
      "cell_type": "markdown",
      "source": [
        "Yes,This is the valid reason for postive business impact.Less number of booking can affect hotel business.So try to get more booking from various countries for positive business impact."
      ],
      "metadata": {
        "id": "_WtzZ_hCYuh4"
      }
    },
    {
      "cell_type": "markdown",
      "source": [
        "#### Chart - 6 Booking changes in each year based on customer type"
      ],
      "metadata": {
        "id": "PIIx-8_IphqN"
      }
    },
    {
      "cell_type": "code",
      "source": [
        "# Chart - 7 visualization code\n",
        "import seaborn as sns\n",
        "sns.barplot(x='arrival_year',y='booking_changes' ,data=data,hue ='customer_type')\n",
        "plt.show()\n",
        "print('Maximum booking changes:',df['booking_changes'].max())"
      ],
      "metadata": {
        "id": "lqAIGUfyphqO"
      },
      "execution_count": null,
      "outputs": []
    },
    {
      "cell_type": "markdown",
      "source": [
        "##### 1. Why did you pick the specific chart?"
      ],
      "metadata": {
        "id": "t27r6nlMphqO"
      }
    },
    {
      "cell_type": "markdown",
      "source": [
        "Bar plot is used when you want to show a distribution of values in dataset.When the changes are larger,a bar plot is best option to represent data.\n",
        "   \n",
        "So ,I used bar plot to booking chnages in each year based on customer type."
      ],
      "metadata": {
        "id": "iv6ro40sphqO"
      }
    },
    {
      "cell_type": "markdown",
      "source": [
        "##### 2. What is/are the insight(s) found from the chart?"
      ],
      "metadata": {
        "id": "r2jJGEOYphqO"
      }
    },
    {
      "cell_type": "markdown",
      "source": [
        "With the help of bar plot,we observe that the maximum number of booking changes are in 2009 that is 7.The maximum booking changes are made by Group customer."
      ],
      "metadata": {
        "id": "Po6ZPi4hphqO"
      }
    },
    {
      "cell_type": "markdown",
      "source": [
        "##### 3. Will the gained insights help creating a positive business impact?\n",
        "Are there any insights that lead to negative growth? Justify with specific reason."
      ],
      "metadata": {
        "id": "b0JNsNcRphqO"
      }
    },
    {
      "cell_type": "markdown",
      "source": [
        "Yes, Booking changes can affect business and may also create negetive impact.So try to fulfill customer requirements so that they don't cancelled or change booking ."
      ],
      "metadata": {
        "id": "xvSq8iUTphqO"
      }
    },
    {
      "cell_type": "markdown",
      "source": [
        "#### Chart - 7 Monthly Analysis on Dataset"
      ],
      "metadata": {
        "id": "BZR9WyysphqO"
      }
    },
    {
      "cell_type": "code",
      "source": [
        "# Chart - 8 visualization code\n",
        "plt.plot(data['arrival_month'],data['Number_of_booking'])\n",
        "plt.plot(data['arrival_month'],data['reserved_room_type'])\n",
        "plt.plot(data['arrival_month'],data['deposit_type'])\n",
        "plt.title('Monthly Analysis')\n",
        "plt.xlabel('Month')\n",
        "plt.ylabel('Units')\n",
        "plt.show()"
      ],
      "metadata": {
        "id": "TdPTWpAVphqO"
      },
      "execution_count": null,
      "outputs": []
    },
    {
      "cell_type": "markdown",
      "source": [
        "##### 1. Why did you pick the specific chart?"
      ],
      "metadata": {
        "id": "jj7wYXLtphqO"
      }
    },
    {
      "cell_type": "markdown",
      "source": [
        "Line charts are used to represent the relation between two data on different axis .This display evaluation of one or more numeric variable\n",
        "\n",
        "Line graphs can also be used as a tool for comparison."
      ],
      "metadata": {
        "id": "Ob8u6rCTphqO"
      }
    },
    {
      "cell_type": "markdown",
      "source": [
        "##### 2. What is/are the insight(s) found from the chart?"
      ],
      "metadata": {
        "id": "eZrbJ2SmphqO"
      }
    },
    {
      "cell_type": "markdown",
      "source": [
        "We have noticed from above Chart that , maximum bookings are in May and Feb month.We can also see rest insights from above graph."
      ],
      "metadata": {
        "id": "mZtgC_hjphqO"
      }
    },
    {
      "cell_type": "markdown",
      "source": [
        "  #### Chart - 8 Booking changes VS room types (Box plot)"
      ],
      "metadata": {
        "id": "YJ55k-q6phqO"
      }
    },
    {
      "cell_type": "code",
      "source": [
        "# Chart - 9 visualization code\n",
        "sns.boxplot(x =df['reserved_room_type'],y =df['booking_changes'],data=data)\n",
        "plt.title('Status')\n",
        "plt.xlabel('Room Type')\n",
        "plt.ylabel('Change in Booking')\n",
        "plt.show()\n",
        "print('Maximum booking changed:',df['booking_changes'].max())"
      ],
      "metadata": {
        "id": "B2aS4O1ophqO"
      },
      "execution_count": null,
      "outputs": []
    },
    {
      "cell_type": "markdown",
      "source": [
        "##### 1. Why did you pick the specific chart?"
      ],
      "metadata": {
        "id": "gCFgpxoyphqP"
      }
    },
    {
      "cell_type": "markdown",
      "source": [
        "Box plots are used to show distribution of numeric data. Especially when you want them with multiple groups. They are built to provide high level information at glance .\n",
        "\n",
        " Thus,I used Box plot to get the maximum and minimum values."
      ],
      "metadata": {
        "id": "TVxDimi2phqP"
      }
    },
    {
      "cell_type": "markdown",
      "source": [
        "##### 2. What is/are the insight(s) found from the chart?"
      ],
      "metadata": {
        "id": "OVtJsKN_phqQ"
      }
    },
    {
      "cell_type": "markdown",
      "source": [
        "In above Box plot graph ,I observe that maximum booking changes are 7 for room type AC ."
      ],
      "metadata": {
        "id": "ngGi97qjphqQ"
      }
    },
    {
      "cell_type": "markdown",
      "source": [
        "##### 3. Will the gained insights help creating a positive business impact?\n",
        "Are there any insights that lead to negative growth? Justify with specific reason."
      ],
      "metadata": {
        "id": "lssrdh5qphqQ"
      }
    },
    {
      "cell_type": "markdown",
      "source": [
        "This may lead to positive impact on business.Every customer wants well clean and maintain room so ,room condition may also lead to get positive impact."
      ],
      "metadata": {
        "id": "tBpY5ekJphqQ"
      }
    },
    {
      "cell_type": "markdown",
      "source": [
        "#### Chart - 9 Column wise Box Plotting"
      ],
      "metadata": {
        "id": "U2RJ9gkRphqQ"
      }
    },
    {
      "cell_type": "code",
      "source": [
        "# Chart - 10 visualization code\n",
        "for col in df.describe().columns:\n",
        "  fig=plt.figure(figsize=(9,6))\n",
        "  ax=fig.gca()\n",
        "  df.boxplot(col,ax=ax)\n",
        "  ax.set_title('Label by: ' +col)\n",
        "  plt.show()"
      ],
      "metadata": {
        "id": "GM7a4YP4phqQ"
      },
      "execution_count": null,
      "outputs": []
    },
    {
      "cell_type": "markdown",
      "source": [
        "##### 1. Why did you pick the specific chart?"
      ],
      "metadata": {
        "id": "1M8mcRywphqQ"
      }
    },
    {
      "cell_type": "markdown",
      "source": [
        "Box plots are used to represent distribution of values all over the data.When you want them with multiple grups.They are built to provide high level info .Box plot are best option when you want to present your data in graphical view.\n",
        "\n",
        "  So,I used Box plots to represent my data ."
      ],
      "metadata": {
        "id": "8agQvks0phqQ"
      }
    },
    {
      "cell_type": "markdown",
      "source": [
        "##### 2. What is/are the insight(s) found from the chart?"
      ],
      "metadata": {
        "id": "tgIPom80phqQ"
      }
    },
    {
      "cell_type": "markdown",
      "source": [
        "I used Box plots to represent my whole dataset.I used for loop to show all  columns in dataset in Box plot view.Each column in dadaset is represented as Box plot in dataset."
      ],
      "metadata": {
        "id": "Qp13pnNzphqQ"
      }
    },
    {
      "cell_type": "markdown",
      "source": [
        "##### 3. Will the gained insights help creating a positive business impact?\n",
        "Are there any insights that lead to negative growth? Justify with specific reason."
      ],
      "metadata": {
        "id": "JMzcOPDDphqR"
      }
    },
    {
      "cell_type": "markdown",
      "source": [
        "Just Box plots cannot define business impact it's just done to see the distribution of columns in data."
      ],
      "metadata": {
        "id": "R4Ka1PC2phqR"
      }
    },
    {
      "cell_type": "markdown",
      "source": [
        "#### Chart 10 Number of children in each Hotel"
      ],
      "metadata": {
        "id": "Ag9LCva-p1cl"
      }
    },
    {
      "cell_type": "code",
      "source": [
        "# Chart - 13 visualization code\n",
        "import seaborn as sns\n",
        "sns.barplot(y = 'Children',x = 'Hotel',hue ='Country', data = df)\n",
        "plt.show()\n",
        "print('Maximum number of children in Hotel:',data['Children'].max())"
      ],
      "metadata": {
        "id": "EUfxeq9-p1cl"
      },
      "execution_count": null,
      "outputs": []
    },
    {
      "cell_type": "markdown",
      "source": [
        "##### 1. Why did you pick the specific chart?"
      ],
      "metadata": {
        "id": "E6MkPsBcp1cl"
      }
    },
    {
      "cell_type": "markdown",
      "source": [
        "A bar plot is a graph which describes the comparison between descrete categories.It also shows the relation between numeric and categoric variables.Each entity of variable is represented as a bar.\n",
        "\n",
        "  Thus,I used bar plot to represent my data."
      ],
      "metadata": {
        "id": "V22bRsFWp1cl"
      }
    },
    {
      "cell_type": "markdown",
      "source": [
        "##### 2. What is/are the insight(s) found from the chart?"
      ],
      "metadata": {
        "id": "2cELzS2fp1cl"
      }
    },
    {
      "cell_type": "markdown",
      "source": [
        "I used bar plot to show relation between two columns that are Number_of_booking and Hotel.We have observe that maximum number of Children is for City hotel that is 2 from Paris."
      ],
      "metadata": {
        "id": "ozQPc2_Ip1cl"
      }
    },
    {
      "cell_type": "markdown",
      "source": [
        "##### 3. Will the gained insights help creating a positive business impact?\n",
        "Are there any insights that lead to negative growth? Justify with specific reason."
      ],
      "metadata": {
        "id": "3MPXvC8up1cl"
      }
    },
    {
      "cell_type": "markdown",
      "source": [
        "Maximum customer arrival may lead to positive business .Sometimes there is also childrens with customers so that's a good for positive impact on business."
      ],
      "metadata": {
        "id": "GL8l1tdLp1cl"
      }
    },
    {
      "cell_type": "markdown",
      "source": [
        "#### Chart - 11 Correlation Heatmap"
      ],
      "metadata": {
        "id": "NC_X3p0fY2L0"
      }
    },
    {
      "cell_type": "code",
      "source": [
        "# Correlation Heatmap visualization code\n",
        "sns.heatmap(df.corr(),annot=True,fmt='.2f')"
      ],
      "metadata": {
        "id": "xyC9zolEZNRQ"
      },
      "execution_count": null,
      "outputs": []
    },
    {
      "cell_type": "markdown",
      "source": [
        "##### 1. Why did you pick the specific chart?"
      ],
      "metadata": {
        "id": "UV0SzAkaZNRQ"
      }
    },
    {
      "cell_type": "markdown",
      "source": [
        "It is the table showing correlation coefficient between variable.Each cell  in the table shows the correlation between two variables.A correlation matrix is used to summarise data as input into more advance analysis.The range of correlation is [1,-1].\n",
        "\n",
        " Thus,to know the correlation between all variable along with the coefficient I used correlation heatmap."
      ],
      "metadata": {
        "id": "DVPuT8LYZNRQ"
      }
    },
    {
      "cell_type": "markdown",
      "source": [
        "##### 2. What is/are the insight(s) found from the chart?"
      ],
      "metadata": {
        "id": "YPEH6qLeZNRQ"
      }
    },
    {
      "cell_type": "markdown",
      "source": [
        "From above correlation heatmap we can see total number of booking,total cancelled booking,total repeated guest.\n",
        "All variable are correlated with each other positively and negatively.\n",
        "\n",
        "Rest of all correlation can be depicted from above Chart."
      ],
      "metadata": {
        "id": "bfSqtnDqZNRR"
      }
    },
    {
      "cell_type": "markdown",
      "source": [
        "#### Chart - 12 Pair Plot"
      ],
      "metadata": {
        "id": "q29F0dvdveiT"
      }
    },
    {
      "cell_type": "code",
      "source": [
        "# Pair Plot visualization code\n",
        "sns.pairplot(df,hue ='Country')"
      ],
      "metadata": {
        "id": "o58-TEIhveiU"
      },
      "execution_count": null,
      "outputs": []
    },
    {
      "cell_type": "markdown",
      "source": [
        "##### 1. Why did you pick the specific chart?"
      ],
      "metadata": {
        "id": "EXh0U9oCveiU"
      }
    },
    {
      "cell_type": "markdown",
      "source": [
        "Pair plots are used to understand the best set of features to explain a relation between two variables or to form the most separated cluster.It also helps to form some simple classification models by drawing some lines or make a linear separation in our dataset.\n",
        "\n",
        "   Thus, I used pair plot to analyse the pattern of data and relation between the features.It is exactly se as the correlation map but here you will get the graphical representation."
      ],
      "metadata": {
        "id": "eMmPjTByveiU"
      }
    },
    {
      "cell_type": "markdown",
      "source": [
        "##### 2. What is/are the insight(s) found from the chart?"
      ],
      "metadata": {
        "id": "22aHeOlLveiV"
      }
    },
    {
      "cell_type": "markdown",
      "source": [
        "From the above chart I got to know there is relation between variables and data.In this whole pair plot the importance of all features can be seen and the number of booking with different features are really insightful.\n",
        "\n",
        "  Rest of all insights can be fetch from above graph."
      ],
      "metadata": {
        "id": "uPQ8RGwHveiV"
      }
    },
    {
      "cell_type": "markdown",
      "source": [
        "## **5. Solution to Business Objective**"
      ],
      "metadata": {
        "id": "JcMwzZxoAimU"
      }
    },
    {
      "cell_type": "markdown",
      "source": [
        "- Be proactive with communication.\n",
        "- Provide Good services like room service,Food.\n",
        "- Update your website, social media and prices.\n",
        "-Increase and improve your review.\n",
        "- Promote your food and beverage option.\n",
        "- Create a customer loyality program\n",
        "- Make attractive and expressive advertisement.\n",
        "- Use fresh, intresting content to answer the customer question.\n",
        "\n",
        "- Define a roadmap to new customer.\n",
        "- Ask for feedback often."
      ],
      "metadata": {
        "id": "8G2x9gOozGDZ"
      }
    },
    {
      "cell_type": "markdown",
      "source": [
        "# **Conclusion**"
      ],
      "metadata": {
        "id": "gCX9965dhzqZ"
      }
    },
    {
      "cell_type": "markdown",
      "source": [
        "- City hotel seems more prefered among customers\n",
        "\n",
        "- Most Number of booking made in May month from Paris compared to India and USA\n",
        "\n",
        "- Most preferred meal type is FB from group  type customer.\n",
        "\n",
        "- Most Number of booking is in year 2015 and 2017.\n",
        "\n",
        "- Most number of booking changes placed in year 2019 that is 7 from group type of customer.\n",
        "\n",
        "- May and Feb month have most number of booking.\n",
        "\n",
        "- Most preferred room type is AC as compared to Normal room type.\n",
        "\n",
        "- Maximum number of children arrival in in City hotel from Country Paris."
      ],
      "metadata": {
        "id": "Fjb1IsQkh3yE"
      }
    },
    {
      "cell_type": "markdown",
      "source": [
        "### ***Hurrah! You have successfully completed your EDA Capstone Project !!!***"
      ],
      "metadata": {
        "id": "gIfDvo9L0UH2"
      }
    }
  ]
}